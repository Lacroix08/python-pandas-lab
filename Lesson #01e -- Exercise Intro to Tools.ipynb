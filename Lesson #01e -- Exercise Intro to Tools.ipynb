{
 "metadata": {
  "name": "",
  "signature": "sha256:f9edcf2e328dc228bd542c58b4848733699d4b626498d02cfd32b5be97ea4aef"
 },
 "nbformat": 3,
 "nbformat_minor": 0,
 "worksheets": [
  {
   "cells": [
    {
     "cell_type": "heading",
     "level": 1,
     "metadata": {},
     "source": [
      "Lesson #01 Exercise "
     ]
    },
    {
     "cell_type": "markdown",
     "metadata": {},
     "source": [
      "**Time :5 min** \n",
      "\n",
      "In this exercise I want you to play around with the interface and get familiar with it. Here are few things to try. \n",
      "\n",
      "Do the following. \n",
      "* Run through the interface tour (Help -> User Interface Tour)\n",
      "* Create a markdown cell and type your name\n",
      "* Create a new code cell and print your name\n",
      "* Move the code cell above the markdown cell\n",
      "* Delete the Markdown cell you have\n",
      "\n",
      "Optional (Advanced)\n",
      "* Import the time module\n",
      "* Print the current time\n",
      "* Restart the Kernel\n",
      "* Run all the cells \n",
      "* Download the notebook as a python script"
     ]
    },
    {
     "cell_type": "code",
     "collapsed": false,
     "input": [
      "name = \"Lacroix\"\n",
      "print name"
     ],
     "language": "python",
     "metadata": {},
     "outputs": [
      {
       "output_type": "stream",
       "stream": "stdout",
       "text": [
        "Lacroix\n"
       ]
      }
     ],
     "prompt_number": 2
    },
    {
     "cell_type": "code",
     "collapsed": false,
     "input": [
      "import time\n",
      "print time.ctime()\n"
     ],
     "language": "python",
     "metadata": {},
     "outputs": []
    },
    {
     "cell_type": "code",
     "collapsed": false,
     "input": [],
     "language": "python",
     "metadata": {},
     "outputs": []
    }
   ],
   "metadata": {}
  }
 ]
}