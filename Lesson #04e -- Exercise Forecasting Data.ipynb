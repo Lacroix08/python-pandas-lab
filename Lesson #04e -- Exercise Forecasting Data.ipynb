{
 "metadata": {
  "name": "",
  "signature": "sha256:10cd08acc16bfa71bb80cfc72a0d81d974ee93897d6d1cb0f64fb8380c66bc34"
 },
 "nbformat": 3,
 "nbformat_minor": 0,
 "worksheets": [
  {
   "cells": [
    {
     "cell_type": "heading",
     "level": 1,
     "metadata": {},
     "source": [
      "Lesson #04 Exercise "
     ]
    },
    {
     "cell_type": "markdown",
     "metadata": {},
     "source": [
      "**Time :What ever time is left** \n",
      "\n",
      "In this exercise I want you to create an ARMA model for visitors. Here are the rough steps.\n",
      "* Pull vistors for January through the end of March\n",
      "* Run the Model with different orders\n",
      "\n",
      "\n",
      "Optional (Advanced)\n",
      "* Run an Autocorrelation and Partial Autocorrelation to help decide first order\n"
     ]
    },
    {
     "cell_type": "code",
     "collapsed": false,
     "input": [
      "import omniture\n",
      "import pandas as pd\n",
      "import numpy as np\n",
      "import statsmodels.api as sm\n",
      "\n",
      "\n",
      "\n",
      "\n",
      "an = omniture.authenticate(\"labuser:Lab L721\",\"5b00fe37eb2659d0f3a1231cb3d803f9\")\n",
      "%matplotlib inline"
     ],
     "language": "python",
     "metadata": {},
     "outputs": [],
     "prompt_number": 1
    },
    {
     "cell_type": "code",
     "collapsed": false,
     "input": [
      "suite = an.suites['omniture.devportal']\n",
      "report = suite.report.metric('pageviews').range(\"2015-01-01\", \"2015-03-31\").granularity(\"day\").run()"
     ],
     "language": "python",
     "metadata": {},
     "outputs": []
    }
   ],
   "metadata": {}
  }
 ]
}