{
 "metadata": {
  "name": "",
  "signature": "sha256:9e9e899b382d74b12492ea95ad299c5a2d5a1b787d373a7a91d412d616bdc780"
 },
 "nbformat": 3,
 "nbformat_minor": 0,
 "worksheets": [
  {
   "cells": [
    {
     "cell_type": "heading",
     "level": 1,
     "metadata": {},
     "source": [
      "Lesson #03 Exercise "
     ]
    },
    {
     "cell_type": "markdown",
     "metadata": {},
     "source": [
      "**Time :10 min** \n",
      "\n",
      "In this exercise I want you to play with the dataframes. \n",
      "\n",
      "Do the Following\n",
      "* Run the cells below to pull back some data\n",
      "* print out the 1st 10 records of the dataframe\n",
      "* Find the mean and std deviation for page views\n",
      "* Print out a list of just the `page` on the site\n",
      "* plot the dataframe\n",
      "\n",
      "Optional (Advanced)\n",
      "* Filter down to the top 10 results\n",
      "* Plot the top 10 results in a bar chart \n",
      "* Plot a scatter chart of pageviews and visits to each page\n",
      "* Create a new metric of pageivews per visit (which one has the highest?)"
     ]
    },
    {
     "cell_type": "code",
     "collapsed": false,
     "input": [
      "import omniture\n",
      "\n",
      "an = omniture.authenticate(\"labuser:Lab L721\",\"5b00fe37eb2659d0f3a1231cb3d803f9\")\n",
      "%matplotlib inline"
     ],
     "language": "python",
     "metadata": {},
     "outputs": [],
     "prompt_number": 1
    },
    {
     "cell_type": "code",
     "collapsed": false,
     "input": [
      "suite = an.suites['omniture.devportal']\n",
      "report = suite.report.element('page', top=50).metric('pageviews').metric('visits').range('2015-01-31','2015-03-15').run()"
     ],
     "language": "python",
     "metadata": {},
     "outputs": [
      {
       "output_type": "stream",
       "stream": "stdout",
       "text": [
        "."
       ]
      }
     ],
     "prompt_number": 2
    },
    {
     "cell_type": "code",
     "collapsed": false,
     "input": [
      "print report.dataframe.head(10)"
     ],
     "language": "python",
     "metadata": {},
     "outputs": [
      {
       "output_type": "stream",
       "stream": "stdout",
       "text": [
        "                                                page  pageviews  visits\n",
        "0           DevConnection: Get Started: API Explorer       6634    4416\n",
        "1                                DevConnection: Home       5930    3957\n",
        "2                                              Other       4464    1992\n",
        "3  DevConnection: Get Started: Content Page: Meas...       3306    2425\n",
        "4  DevConnection: Documentation: Page: Getting St...       2662    1900\n",
        "5       DevConnection: Documentation: Page: Overview       1875    1362\n",
        "6  DevConnection: Get Started: Content Page: Repo...       1867    1460\n",
        "7                       DevConnection: Documentation       1548    1103\n",
        "8  DevConnection: Documentation: Page: HTTP GET S...       1513    1368\n",
        "9     DevConnection: Documentation: Page: What's New       1348    1016\n"
       ]
      }
     ],
     "prompt_number": 7
    },
    {
     "cell_type": "code",
     "collapsed": false,
     "input": [
      "print report.dataframe.describe()"
     ],
     "language": "python",
     "metadata": {},
     "outputs": [
      {
       "output_type": "stream",
       "stream": "stdout",
       "text": [
        "        pageviews       visits\n",
        "count    50.00000    50.000000\n",
        "mean   1077.26000   753.640000\n",
        "std    1343.78536   867.588983\n",
        "min     323.00000   171.000000\n",
        "25%     396.25000   290.250000\n",
        "50%     518.00000   404.500000\n",
        "75%    1175.25000   795.250000\n",
        "max    6634.00000  4416.000000\n"
       ]
      }
     ],
     "prompt_number": 12
    },
    {
     "cell_type": "code",
     "collapsed": false,
     "input": [
      "print report.dataframe['page']"
     ],
     "language": "python",
     "metadata": {},
     "outputs": [
      {
       "output_type": "stream",
       "stream": "stdout",
       "text": [
        "0              DevConnection: Get Started: API Explorer\n",
        "1                                   DevConnection: Home\n",
        "2                                                 Other\n",
        "3     DevConnection: Get Started: Content Page: Meas...\n",
        "4     DevConnection: Documentation: Page: Getting St...\n",
        "5          DevConnection: Documentation: Page: Overview\n",
        "6     DevConnection: Get Started: Content Page: Repo...\n",
        "7                          DevConnection: Documentation\n",
        "8     DevConnection: Documentation: Page: HTTP GET S...\n",
        "9        DevConnection: Documentation: Page: What's New\n",
        "10    DevConnection: Gallery: Code: bloodhound-app-m...\n",
        "11    DevConnection: Gallery: Code: app-measurement-...\n",
        "12    DevConnection: Documentation: Page: Analytics ...\n",
        "13    DevConnection: Documentation: Page: Authentica...\n",
        "14    DevConnection: Documentation: Page: Analytics ...\n",
        "15               DevConnection: Forum: Topic: reporting\n",
        "16    DevConnection: Blog: Posts: calling-rest-api-i...\n",
        "17       DevConnection: Documentation: Page: Target API\n",
        "18    DevConnection: Get Started: Content Page: Intr...\n",
        "19    DevConnection: Gallery: Code: app-measurement-...\n",
        "20    DevConnection: Documentation: Page: Visitor Id...\n",
        "21    DevConnection: Get Started: Content Page: Ente...\n",
        "22    DevConnection: Documentation: Page: reportDesc...\n",
        "23    DevConnection: Documentation: Page: HTTP POST ...\n",
        "24    DevConnection: Documentation: Page: Analytics ...\n",
        "25    DevConnection: Documentation: Page: Real-Time ...\n",
        "26    DevConnection: Forum: Thread: how-sitecatalyst...\n",
        "27    DevConnection: Get Started: Content Page: Step...\n",
        "28    DevConnection: Get Started: Content Page: Repo...\n",
        "29    DevConnection: Documentation: Page: Data Wareh...\n",
        "30    DevConnection: Documentation: Page: Data Inser...\n",
        "31     DevConnection: Forum: Topic: general-topic-forum\n",
        "32              DevConnection: Documentation: Page: Get\n",
        "33    DevConnection: Documentation: Page: Data Feeds...\n",
        "34    DevConnection: Get Started: Content Page: Repo...\n",
        "35    DevConnection: Documentation: Page: Analytics ...\n",
        "36    DevConnection: Get Started: Content Page: Demo...\n",
        "37    DevConnection: Get Started: Content Page: Auth...\n",
        "38    DevConnection: Gallery: Code: marketing-cloud-...\n",
        "39                               DevConnection: Gallery\n",
        "40    DevConnection: Get Started: Content Page: Step...\n",
        "41    DevConnection: Forum: Thread: exception-the-ma...\n",
        "42                      DevConnection: Summit 2014 Labs\n",
        "43    DevConnection: Documentation: Page: Data Conne...\n",
        "44            DevConnection: Documentation: Page: Queue\n",
        "45                DevConnection: User: My Account: Edit\n",
        "46    DevConnection: Blog: Posts: how-to-start-with-...\n",
        "47      DevConnection: Documentation: Page: Sample Code\n",
        "48                  DevConnection: Forum: Topic: mobile\n",
        "49    DevConnection: Get Started: Content Page: Step...\n",
        "Name: page, dtype: object\n"
       ]
      }
     ],
     "prompt_number": 15
    },
    {
     "cell_type": "code",
     "collapsed": false,
     "input": [
      "report.dataframe.plot()"
     ],
     "language": "python",
     "metadata": {},
     "outputs": [
      {
       "metadata": {},
       "output_type": "pyout",
       "prompt_number": 22,
       "text": [
        "<matplotlib.axes._subplots.AxesSubplot at 0x10853fdd0>"
       ]
      },
      {
       "metadata": {},
       "output_type": "display_data",
       "png": "[encoded data removed]",
       "text": [
        "<matplotlib.figure.Figure at 0x1084cfc10>"
       ]
      }
     ],
     "prompt_number": 22
    },
    {
     "cell_type": "code",
     "collapsed": false,
     "input": [],
     "language": "python",
     "metadata": {},
     "outputs": []
    }
   ],
   "metadata": {}
  }
 ]
}